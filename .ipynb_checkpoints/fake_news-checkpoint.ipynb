{
 "cells": [
  {
   "cell_type": "markdown",
   "metadata": {},
   "source": [
    "# Detector de Noticias Falsas en español \n",
    "#### Ortega Zitle Ariel 201719454"
   ]
  },
  {
   "cell_type": "markdown",
   "metadata": {},
   "source": [
    "### Librerias"
   ]
  },
  {
   "cell_type": "code",
   "execution_count": 2,
   "metadata": {},
   "outputs": [],
   "source": [
    "import numpy as np\n",
    "import pandas as pd\n",
    "import matplotlib.pyplot as plt"
   ]
  },
  {
   "cell_type": "markdown",
   "metadata": {},
   "source": [
    "### Carga de datos"
   ]
  },
  {
   "cell_type": "code",
   "execution_count": 3,
   "metadata": {},
   "outputs": [],
   "source": [
    "fake_train = pd.read_excel(\"train.xlsx\")\n",
    "fake_valid = pd.read_excel(\"development.xlsx\")\n",
    "fake_test = pd.read_excel(\"test.xlsx\")"
   ]
  },
  {
   "cell_type": "code",
   "execution_count": 4,
   "metadata": {
    "scrolled": true
   },
   "outputs": [
    {
     "data": {
      "text/html": [
       "<div>\n",
       "<style scoped>\n",
       "    .dataframe tbody tr th:only-of-type {\n",
       "        vertical-align: middle;\n",
       "    }\n",
       "\n",
       "    .dataframe tbody tr th {\n",
       "        vertical-align: top;\n",
       "    }\n",
       "\n",
       "    .dataframe thead th {\n",
       "        text-align: right;\n",
       "    }\n",
       "</style>\n",
       "<table border=\"1\" class=\"dataframe\">\n",
       "  <thead>\n",
       "    <tr style=\"text-align: right;\">\n",
       "      <th></th>\n",
       "      <th>Id</th>\n",
       "      <th>Category</th>\n",
       "      <th>Topic</th>\n",
       "      <th>Source</th>\n",
       "      <th>Headline</th>\n",
       "      <th>Text</th>\n",
       "      <th>Link</th>\n",
       "    </tr>\n",
       "  </thead>\n",
       "  <tbody>\n",
       "    <tr>\n",
       "      <th>671</th>\n",
       "      <td>672</td>\n",
       "      <td>Fake</td>\n",
       "      <td>Entertainment</td>\n",
       "      <td>El Dizque</td>\n",
       "      <td>Madonna será la nueva imagen del Chocolate Abu...</td>\n",
       "      <td>Madonna será la nueva imagen del Chocolate Abu...</td>\n",
       "      <td>https://www.eldizque.com/madonna-sera-la-nueva...</td>\n",
       "    </tr>\n",
       "    <tr>\n",
       "      <th>672</th>\n",
       "      <td>673</td>\n",
       "      <td>True</td>\n",
       "      <td>Entertainment</td>\n",
       "      <td>Radio Formula</td>\n",
       "      <td>Filtran material íntimo de Zelina Vega, luchad...</td>\n",
       "      <td>Filtran material íntimo de Zelina Vega, luchad...</td>\n",
       "      <td>http://www.radioformula.com.mx/notas.asp?Idn=7...</td>\n",
       "    </tr>\n",
       "    <tr>\n",
       "      <th>673</th>\n",
       "      <td>674</td>\n",
       "      <td>Fake</td>\n",
       "      <td>Entertainment</td>\n",
       "      <td>La Voz Popular</td>\n",
       "      <td>CBS PLANEA GRAN HERMANO EN LA CASA BLANCA CON ...</td>\n",
       "      <td>CBS PLANEA GRAN HERMANO EN LA CASA BLANCA CON ...</td>\n",
       "      <td>http://lavozpopular.com/cbs-planea-gran-herman...</td>\n",
       "    </tr>\n",
       "    <tr>\n",
       "      <th>674</th>\n",
       "      <td>675</td>\n",
       "      <td>Fake</td>\n",
       "      <td>Entertainment</td>\n",
       "      <td>El Dizque</td>\n",
       "      <td>TV Azteca anuncia que cambiará su nombre por u...</td>\n",
       "      <td>TV Azteca anuncia que cambiará su nombre por u...</td>\n",
       "      <td>https://www.eldizque.com/tv-azteca-anuncia-que...</td>\n",
       "    </tr>\n",
       "    <tr>\n",
       "      <th>675</th>\n",
       "      <td>676</td>\n",
       "      <td>Fake</td>\n",
       "      <td>Entertainment</td>\n",
       "      <td>La voz popular</td>\n",
       "      <td>MUERTE DE PETER EL ANGUILA POR SOBREDOSIS</td>\n",
       "      <td>MUERTE DE PETER EL ANGUILA POR SOBREDOSIS\\nPet...</td>\n",
       "      <td>http://lavozpopular.com/muerte-peter-el-anguil...</td>\n",
       "    </tr>\n",
       "  </tbody>\n",
       "</table>\n",
       "</div>"
      ],
      "text/plain": [
       "      Id Category          Topic          Source  \\\n",
       "671  672     Fake  Entertainment       El Dizque   \n",
       "672  673     True  Entertainment   Radio Formula   \n",
       "673  674     Fake  Entertainment  La Voz Popular   \n",
       "674  675     Fake  Entertainment       El Dizque   \n",
       "675  676     Fake  Entertainment  La voz popular   \n",
       "\n",
       "                                              Headline  \\\n",
       "671  Madonna será la nueva imagen del Chocolate Abu...   \n",
       "672  Filtran material íntimo de Zelina Vega, luchad...   \n",
       "673  CBS PLANEA GRAN HERMANO EN LA CASA BLANCA CON ...   \n",
       "674  TV Azteca anuncia que cambiará su nombre por u...   \n",
       "675          MUERTE DE PETER EL ANGUILA POR SOBREDOSIS   \n",
       "\n",
       "                                                  Text  \\\n",
       "671  Madonna será la nueva imagen del Chocolate Abu...   \n",
       "672  Filtran material íntimo de Zelina Vega, luchad...   \n",
       "673  CBS PLANEA GRAN HERMANO EN LA CASA BLANCA CON ...   \n",
       "674  TV Azteca anuncia que cambiará su nombre por u...   \n",
       "675  MUERTE DE PETER EL ANGUILA POR SOBREDOSIS\\nPet...   \n",
       "\n",
       "                                                  Link  \n",
       "671  https://www.eldizque.com/madonna-sera-la-nueva...  \n",
       "672  http://www.radioformula.com.mx/notas.asp?Idn=7...  \n",
       "673  http://lavozpopular.com/cbs-planea-gran-herman...  \n",
       "674  https://www.eldizque.com/tv-azteca-anuncia-que...  \n",
       "675  http://lavozpopular.com/muerte-peter-el-anguil...  "
      ]
     },
     "execution_count": 4,
     "metadata": {},
     "output_type": "execute_result"
    }
   ],
   "source": [
    "fake_train.tail()"
   ]
  },
  {
   "cell_type": "code",
   "execution_count": 5,
   "metadata": {
    "scrolled": true
   },
   "outputs": [
    {
     "data": {
      "text/html": [
       "<div>\n",
       "<style scoped>\n",
       "    .dataframe tbody tr th:only-of-type {\n",
       "        vertical-align: middle;\n",
       "    }\n",
       "\n",
       "    .dataframe tbody tr th {\n",
       "        vertical-align: top;\n",
       "    }\n",
       "\n",
       "    .dataframe thead th {\n",
       "        text-align: right;\n",
       "    }\n",
       "</style>\n",
       "<table border=\"1\" class=\"dataframe\">\n",
       "  <thead>\n",
       "    <tr style=\"text-align: right;\">\n",
       "      <th></th>\n",
       "      <th>ID</th>\n",
       "      <th>CATEGORY</th>\n",
       "      <th>TOPICS</th>\n",
       "      <th>SOURCE</th>\n",
       "      <th>HEADLINE</th>\n",
       "      <th>TEXT</th>\n",
       "      <th>LINK</th>\n",
       "    </tr>\n",
       "  </thead>\n",
       "  <tbody>\n",
       "    <tr>\n",
       "      <th>0</th>\n",
       "      <td>1</td>\n",
       "      <td>True</td>\n",
       "      <td>Covid-19</td>\n",
       "      <td>El Economista</td>\n",
       "      <td>Covid-19: mentiras que matan</td>\n",
       "      <td>El control de la Covid-19 no es sólo un tema d...</td>\n",
       "      <td>https://www.eleconomista.com.mx/opinion/Covid-...</td>\n",
       "    </tr>\n",
       "    <tr>\n",
       "      <th>1</th>\n",
       "      <td>2</td>\n",
       "      <td>False</td>\n",
       "      <td>Política</td>\n",
       "      <td>El matinal</td>\n",
       "      <td>El Gobierno podrá acceder a las IPs de los móv...</td>\n",
       "      <td>El Gobierno de Pedro Sánchez y Pablo Iglesias ...</td>\n",
       "      <td>https://www.elmatinal.com/espana-ultima-hora/e...</td>\n",
       "    </tr>\n",
       "    <tr>\n",
       "      <th>2</th>\n",
       "      <td>3</td>\n",
       "      <td>True</td>\n",
       "      <td>Política</td>\n",
       "      <td>El País</td>\n",
       "      <td>La comunidad musulmana catalana denuncia a Vox...</td>\n",
       "      <td>Las tres federaciones que agrupan al 90% de la...</td>\n",
       "      <td>https://elpais.com/espana/elecciones-catalanas...</td>\n",
       "    </tr>\n",
       "    <tr>\n",
       "      <th>3</th>\n",
       "      <td>4</td>\n",
       "      <td>False</td>\n",
       "      <td>Política</td>\n",
       "      <td>AFPFactual</td>\n",
       "      <td>NaN</td>\n",
       "      <td>Se han dado a conocer los datos electorales pr...</td>\n",
       "      <td>https://perma.cc/GYE6-SPMB</td>\n",
       "    </tr>\n",
       "    <tr>\n",
       "      <th>4</th>\n",
       "      <td>5</td>\n",
       "      <td>True</td>\n",
       "      <td>Sociedad</td>\n",
       "      <td>La Republica</td>\n",
       "      <td>El censo poblacional 2018 tendrá un costo de $...</td>\n",
       "      <td>La primera fase del censo será virtual y solo ...</td>\n",
       "      <td>https://www.larepublica.co/economia/el-censo-p...</td>\n",
       "    </tr>\n",
       "    <tr>\n",
       "      <th>...</th>\n",
       "      <td>...</td>\n",
       "      <td>...</td>\n",
       "      <td>...</td>\n",
       "      <td>...</td>\n",
       "      <td>...</td>\n",
       "      <td>...</td>\n",
       "      <td>...</td>\n",
       "    </tr>\n",
       "    <tr>\n",
       "      <th>567</th>\n",
       "      <td>568</td>\n",
       "      <td>True</td>\n",
       "      <td>Covid-19</td>\n",
       "      <td>El Financiero</td>\n",
       "      <td>Encuentran nueva variante de COVID en México: ...</td>\n",
       "      <td>El Instituto de Diagnóstico y Referencia Epide...</td>\n",
       "      <td>https://www.elfinanciero.com.mx/salud/encuentr...</td>\n",
       "    </tr>\n",
       "    <tr>\n",
       "      <th>568</th>\n",
       "      <td>569</td>\n",
       "      <td>False</td>\n",
       "      <td>Sociedad</td>\n",
       "      <td>diariogol</td>\n",
       "      <td>El móvil de más de 60.000 euros de la princesa...</td>\n",
       "      <td>La hija del rey Felipe y de la reina Letizia y...</td>\n",
       "      <td>https://www.diariogol.com/gossip/el-movil-de-m...</td>\n",
       "    </tr>\n",
       "    <tr>\n",
       "      <th>569</th>\n",
       "      <td>570</td>\n",
       "      <td>False</td>\n",
       "      <td>Política</td>\n",
       "      <td>AFPFactual</td>\n",
       "      <td>NaN</td>\n",
       "      <td>Evidentemente, Barak Obama ha sido arrestado e...</td>\n",
       "      <td>Perma | Obama, Biden y la directora de la CIA,...</td>\n",
       "    </tr>\n",
       "    <tr>\n",
       "      <th>570</th>\n",
       "      <td>571</td>\n",
       "      <td>True</td>\n",
       "      <td>Covid-19</td>\n",
       "      <td>Redacción Médica</td>\n",
       "      <td>Covid: las vacunas puestas en España no alcanz...</td>\n",
       "      <td>El Ministerio de Sanidad ha actualizado los da...</td>\n",
       "      <td>https://www.redaccionmedica.com/secciones/sani...</td>\n",
       "    </tr>\n",
       "    <tr>\n",
       "      <th>571</th>\n",
       "      <td>572</td>\n",
       "      <td>False</td>\n",
       "      <td>Covid-19</td>\n",
       "      <td>El Sol de la Laguna</td>\n",
       "      <td>En 2014 una revista ya alertaba sobre el coron...</td>\n",
       "      <td>Fue en el mes de febrero de 2014 cuando la rev...</td>\n",
       "      <td>https://www.Noticiadelsoldelalaguna.com.mx/dob...</td>\n",
       "    </tr>\n",
       "  </tbody>\n",
       "</table>\n",
       "<p>572 rows × 7 columns</p>\n",
       "</div>"
      ],
      "text/plain": [
       "      ID  CATEGORY    TOPICS               SOURCE  \\\n",
       "0      1      True  Covid-19        El Economista   \n",
       "1      2     False  Política           El matinal   \n",
       "2      3      True  Política              El País   \n",
       "3      4     False  Política           AFPFactual   \n",
       "4      5      True  Sociedad         La Republica   \n",
       "..   ...       ...       ...                  ...   \n",
       "567  568      True  Covid-19        El Financiero   \n",
       "568  569     False  Sociedad            diariogol   \n",
       "569  570     False  Política           AFPFactual   \n",
       "570  571      True  Covid-19     Redacción Médica   \n",
       "571  572     False  Covid-19  El Sol de la Laguna   \n",
       "\n",
       "                                              HEADLINE  \\\n",
       "0                         Covid-19: mentiras que matan   \n",
       "1    El Gobierno podrá acceder a las IPs de los móv...   \n",
       "2    La comunidad musulmana catalana denuncia a Vox...   \n",
       "3                                                  NaN   \n",
       "4    El censo poblacional 2018 tendrá un costo de $...   \n",
       "..                                                 ...   \n",
       "567  Encuentran nueva variante de COVID en México: ...   \n",
       "568  El móvil de más de 60.000 euros de la princesa...   \n",
       "569                                                NaN   \n",
       "570  Covid: las vacunas puestas en España no alcanz...   \n",
       "571  En 2014 una revista ya alertaba sobre el coron...   \n",
       "\n",
       "                                                  TEXT  \\\n",
       "0    El control de la Covid-19 no es sólo un tema d...   \n",
       "1    El Gobierno de Pedro Sánchez y Pablo Iglesias ...   \n",
       "2    Las tres federaciones que agrupan al 90% de la...   \n",
       "3    Se han dado a conocer los datos electorales pr...   \n",
       "4    La primera fase del censo será virtual y solo ...   \n",
       "..                                                 ...   \n",
       "567  El Instituto de Diagnóstico y Referencia Epide...   \n",
       "568  La hija del rey Felipe y de la reina Letizia y...   \n",
       "569  Evidentemente, Barak Obama ha sido arrestado e...   \n",
       "570  El Ministerio de Sanidad ha actualizado los da...   \n",
       "571  Fue en el mes de febrero de 2014 cuando la rev...   \n",
       "\n",
       "                                                  LINK  \n",
       "0    https://www.eleconomista.com.mx/opinion/Covid-...  \n",
       "1    https://www.elmatinal.com/espana-ultima-hora/e...  \n",
       "2    https://elpais.com/espana/elecciones-catalanas...  \n",
       "3                           https://perma.cc/GYE6-SPMB  \n",
       "4    https://www.larepublica.co/economia/el-censo-p...  \n",
       "..                                                 ...  \n",
       "567  https://www.elfinanciero.com.mx/salud/encuentr...  \n",
       "568  https://www.diariogol.com/gossip/el-movil-de-m...  \n",
       "569  Perma | Obama, Biden y la directora de la CIA,...  \n",
       "570  https://www.redaccionmedica.com/secciones/sani...  \n",
       "571  https://www.Noticiadelsoldelalaguna.com.mx/dob...  \n",
       "\n",
       "[572 rows x 7 columns]"
      ]
     },
     "execution_count": 5,
     "metadata": {},
     "output_type": "execute_result"
    }
   ],
   "source": [
    "fake_test"
   ]
  },
  {
   "cell_type": "code",
   "execution_count": 6,
   "metadata": {},
   "outputs": [
    {
     "data": {
      "text/html": [
       "<div>\n",
       "<style scoped>\n",
       "    .dataframe tbody tr th:only-of-type {\n",
       "        vertical-align: middle;\n",
       "    }\n",
       "\n",
       "    .dataframe tbody tr th {\n",
       "        vertical-align: top;\n",
       "    }\n",
       "\n",
       "    .dataframe thead th {\n",
       "        text-align: right;\n",
       "    }\n",
       "</style>\n",
       "<table border=\"1\" class=\"dataframe\">\n",
       "  <thead>\n",
       "    <tr style=\"text-align: right;\">\n",
       "      <th></th>\n",
       "      <th>Id</th>\n",
       "      <th>Category</th>\n",
       "      <th>Topic</th>\n",
       "      <th>Source</th>\n",
       "      <th>Headline</th>\n",
       "      <th>Text</th>\n",
       "      <th>Link</th>\n",
       "    </tr>\n",
       "  </thead>\n",
       "  <tbody>\n",
       "    <tr>\n",
       "      <th>285</th>\n",
       "      <td>286</td>\n",
       "      <td>Fake</td>\n",
       "      <td>Entertainment</td>\n",
       "      <td>El Ruinaversal</td>\n",
       "      <td>CARMEN ARISTEGUI SUSTITUIRÁ A JAVIER ALATORRE ...</td>\n",
       "      <td>CARMEN ARISTEGUI SUSTITUIRÁ A JAVIER ALATORRE ...</td>\n",
       "      <td>http://www.elruinaversal.com/2017/06/02/carmen...</td>\n",
       "    </tr>\n",
       "    <tr>\n",
       "      <th>286</th>\n",
       "      <td>287</td>\n",
       "      <td>True</td>\n",
       "      <td>Entertainment</td>\n",
       "      <td>HUFFPOST</td>\n",
       "      <td>Warner Bros inagura una exposición con los tra...</td>\n",
       "      <td>Warner Bros inagura una exposición con los tra...</td>\n",
       "      <td>https://www.huffingtonpost.es/2016/05/20/expos...</td>\n",
       "    </tr>\n",
       "    <tr>\n",
       "      <th>287</th>\n",
       "      <td>288</td>\n",
       "      <td>True</td>\n",
       "      <td>Entertainment</td>\n",
       "      <td>El Universal</td>\n",
       "      <td>Critican libro de Yordi Rosado en redes</td>\n",
       "      <td>Critican libro de Yordi Rosado en redes\\nUsuar...</td>\n",
       "      <td>http://www.eluniversal.com.mx/articulo/cultura...</td>\n",
       "    </tr>\n",
       "    <tr>\n",
       "      <th>288</th>\n",
       "      <td>289</td>\n",
       "      <td>True</td>\n",
       "      <td>Entertainment</td>\n",
       "      <td>EL UNIVERSAL</td>\n",
       "      <td>A Belinda le gustaría apoyar al gobierno de AMLO</td>\n",
       "      <td>A Belinda le gustaría apoyar al gobierno de AM...</td>\n",
       "      <td>http://www.eluniversal.com.mx/espectaculos/far...</td>\n",
       "    </tr>\n",
       "    <tr>\n",
       "      <th>289</th>\n",
       "      <td>290</td>\n",
       "      <td>True</td>\n",
       "      <td>Entertainment</td>\n",
       "      <td>Hola</td>\n",
       "      <td>Diego Maradona se alejó de la iglesia, 'pero e...</td>\n",
       "      <td>Diego Maradona se alejó de la iglesia, 'pero e...</td>\n",
       "      <td>https://us.hola.com/actualidad/201610135662/di...</td>\n",
       "    </tr>\n",
       "    <tr>\n",
       "      <th>290</th>\n",
       "      <td>291</td>\n",
       "      <td>True</td>\n",
       "      <td>Entertainment</td>\n",
       "      <td>HUFFPOST</td>\n",
       "      <td>Meryl Streep disfrutó unos premios Oscar tan m...</td>\n",
       "      <td>Meryl Streep disfrutó unos premios Oscar tan m...</td>\n",
       "      <td>https://www.huffingtonpost.com.mx/2018/03/06/m...</td>\n",
       "    </tr>\n",
       "    <tr>\n",
       "      <th>291</th>\n",
       "      <td>292</td>\n",
       "      <td>Fake</td>\n",
       "      <td>Entertainment</td>\n",
       "      <td>La voz popular</td>\n",
       "      <td>EL PLAGIO DE LANA DEL REY A RADIOHEAD FUE ACOR...</td>\n",
       "      <td>EL PLAGIO DE LANA DEL REY A RADIOHEAD FUE ACOR...</td>\n",
       "      <td>http://lavozpopular.com/plagio-lana-del-rey-ra...</td>\n",
       "    </tr>\n",
       "    <tr>\n",
       "      <th>292</th>\n",
       "      <td>293</td>\n",
       "      <td>True</td>\n",
       "      <td>Entertainment</td>\n",
       "      <td>Billboard</td>\n",
       "      <td>Ricardo Arjona lanza una serie documental por ...</td>\n",
       "      <td>Ricardo Arjona lanza una serie documental por ...</td>\n",
       "      <td>http://www.billboard.com.ar/noticia/2980/ricar...</td>\n",
       "    </tr>\n",
       "    <tr>\n",
       "      <th>293</th>\n",
       "      <td>294</td>\n",
       "      <td>True</td>\n",
       "      <td>Entertainment</td>\n",
       "      <td>EL UNIVERSAL</td>\n",
       "      <td>Raúl Araiza sorprende a Andrea Legarreta con b...</td>\n",
       "      <td>Raúl Araiza sorprende a Andrea Legarreta con b...</td>\n",
       "      <td>http://www.eluniversal.com.mx/espectaculos/rau...</td>\n",
       "    </tr>\n",
       "    <tr>\n",
       "      <th>294</th>\n",
       "      <td>295</td>\n",
       "      <td>Fake</td>\n",
       "      <td>Entertainment</td>\n",
       "      <td>El Dizque</td>\n",
       "      <td>Adal Ramones protagonizará el remake de El Cha...</td>\n",
       "      <td>Adal Ramones protagonizará el remake de El Cha...</td>\n",
       "      <td>https://www.eldizque.com/adal-ramones-protagon...</td>\n",
       "    </tr>\n",
       "  </tbody>\n",
       "</table>\n",
       "</div>"
      ],
      "text/plain": [
       "      Id Category          Topic          Source  \\\n",
       "285  286     Fake  Entertainment  El Ruinaversal   \n",
       "286  287     True  Entertainment        HUFFPOST   \n",
       "287  288     True  Entertainment    El Universal   \n",
       "288  289     True  Entertainment    EL UNIVERSAL   \n",
       "289  290     True  Entertainment            Hola   \n",
       "290  291     True  Entertainment        HUFFPOST   \n",
       "291  292     Fake  Entertainment  La voz popular   \n",
       "292  293     True  Entertainment       Billboard   \n",
       "293  294     True  Entertainment    EL UNIVERSAL   \n",
       "294  295     Fake  Entertainment       El Dizque   \n",
       "\n",
       "                                              Headline  \\\n",
       "285  CARMEN ARISTEGUI SUSTITUIRÁ A JAVIER ALATORRE ...   \n",
       "286  Warner Bros inagura una exposición con los tra...   \n",
       "287            Critican libro de Yordi Rosado en redes   \n",
       "288   A Belinda le gustaría apoyar al gobierno de AMLO   \n",
       "289  Diego Maradona se alejó de la iglesia, 'pero e...   \n",
       "290  Meryl Streep disfrutó unos premios Oscar tan m...   \n",
       "291  EL PLAGIO DE LANA DEL REY A RADIOHEAD FUE ACOR...   \n",
       "292  Ricardo Arjona lanza una serie documental por ...   \n",
       "293  Raúl Araiza sorprende a Andrea Legarreta con b...   \n",
       "294  Adal Ramones protagonizará el remake de El Cha...   \n",
       "\n",
       "                                                  Text  \\\n",
       "285  CARMEN ARISTEGUI SUSTITUIRÁ A JAVIER ALATORRE ...   \n",
       "286  Warner Bros inagura una exposición con los tra...   \n",
       "287  Critican libro de Yordi Rosado en redes\\nUsuar...   \n",
       "288  A Belinda le gustaría apoyar al gobierno de AM...   \n",
       "289  Diego Maradona se alejó de la iglesia, 'pero e...   \n",
       "290  Meryl Streep disfrutó unos premios Oscar tan m...   \n",
       "291  EL PLAGIO DE LANA DEL REY A RADIOHEAD FUE ACOR...   \n",
       "292  Ricardo Arjona lanza una serie documental por ...   \n",
       "293  Raúl Araiza sorprende a Andrea Legarreta con b...   \n",
       "294  Adal Ramones protagonizará el remake de El Cha...   \n",
       "\n",
       "                                                  Link  \n",
       "285  http://www.elruinaversal.com/2017/06/02/carmen...  \n",
       "286  https://www.huffingtonpost.es/2016/05/20/expos...  \n",
       "287  http://www.eluniversal.com.mx/articulo/cultura...  \n",
       "288  http://www.eluniversal.com.mx/espectaculos/far...  \n",
       "289  https://us.hola.com/actualidad/201610135662/di...  \n",
       "290  https://www.huffingtonpost.com.mx/2018/03/06/m...  \n",
       "291  http://lavozpopular.com/plagio-lana-del-rey-ra...  \n",
       "292  http://www.billboard.com.ar/noticia/2980/ricar...  \n",
       "293  http://www.eluniversal.com.mx/espectaculos/rau...  \n",
       "294  https://www.eldizque.com/adal-ramones-protagon...  "
      ]
     },
     "execution_count": 6,
     "metadata": {},
     "output_type": "execute_result"
    }
   ],
   "source": [
    "fake_valid.tail(10)"
   ]
  },
  {
   "cell_type": "code",
   "execution_count": 7,
   "metadata": {},
   "outputs": [
    {
     "data": {
      "text/plain": [
       "Index(['Id', 'Category', 'Topic', 'Source', 'Headline', 'Text', 'Link'], dtype='object')"
      ]
     },
     "execution_count": 7,
     "metadata": {},
     "output_type": "execute_result"
    }
   ],
   "source": [
    "# Let's take a look at our data again\n",
    "fake_train.keys()"
   ]
  },
  {
   "cell_type": "code",
   "execution_count": 8,
   "metadata": {},
   "outputs": [],
   "source": [
    "#pd.unique(fake_train['Text'])"
   ]
  },
  {
   "cell_type": "markdown",
   "metadata": {},
   "source": [
    "### Analisis de dataset"
   ]
  },
  {
   "cell_type": "code",
   "execution_count": 16,
   "metadata": {},
   "outputs": [
    {
     "data": {
      "text/plain": [
       "Text(0, 0.5, 'News')"
      ]
     },
     "execution_count": 16,
     "metadata": {},
     "output_type": "execute_result"
    },
    {
     "data": {
      "image/png": "[encoded data removed]",
      "text/plain": [
       "<Figure size 432x288 with 1 Axes>"
      ]
     },
     "metadata": {
      "needs_background": "light"
     },
     "output_type": "display_data"
    }
   ],
   "source": [
    "fake_train.groupby('Category')['Id'].count().plot(kind='bar',legend='reversed')\n",
    "plt.ylabel('News')"
   ]
  },
  {
   "cell_type": "code",
   "execution_count": 36,
   "metadata": {
    "scrolled": true
   },
   "outputs": [
    {
     "data": {
      "text/plain": [
       "Text(0, 0.5, 'News')"
      ]
     },
     "execution_count": 36,
     "metadata": {},
     "output_type": "execute_result"
    },
    {
     "data": {
      "image/png": "[encoded data removed]",
      "text/plain": [
       "<Figure size 432x288 with 1 Axes>"
      ]
     },
     "metadata": {
      "needs_background": "light"
     },
     "output_type": "display_data"
    }
   ],
   "source": [
    "fake_train.Category.groupby(fake_train.Topic).count().plot(kind='bar')\n",
    "plt.title(\"Numero de noticias por categoria\")\n",
    "plt.ylabel('News')"
   ]
  },
  {
   "cell_type": "markdown",
   "metadata": {},
   "source": [
    "### Limpieza de datos"
   ]
  },
  {
   "cell_type": "code",
   "execution_count": 52,
   "metadata": {},
   "outputs": [],
   "source": [
    "import re\n",
    "import string\n",
    "\n",
    "def clean_text_round1(text):\n",
    "    '''Make text lowercase, remove text in square brackets, remove punctuation and remove words containing numbers.'''\n",
    "    text = text.lower()\n",
    "    text = re.sub('\\[.*?\\]', '', text)\n",
    "    text = re.sub('[%s]' % re.escape(string.punctuation), '', text)\n",
    "    text = re.sub('\\w*\\d\\w*', '', text)\n",
    "    text = re.sub('[‘’“”…]', '', text)\n",
    "    text = re.sub('\\n', '', text)\n",
    "    return text\n",
    "\n",
    "round1 = lambda x: clean_text_round1(x)"
   ]
  },
  {
   "cell_type": "code",
   "execution_count": 56,
   "metadata": {},
   "outputs": [
    {
     "data": {
      "text/plain": [
       "'YORDI ROSADO ESCRIBIRÁ Y DISEÑARÁ LOS NUEVOS LIBROS DE TEXTO DE LA SEP PARA HACERLOS MÁS ATRACTIVOS\\nMéxico.- El director de la Secretaría de Educación Pública, Aurelio Nuño, informó que el dramaturgo y conductor Yordi Rosado será el encargado de redactar los nuevos libros de texto que se reparten en todas las escuelas del país, y que a partir del próximo ciclo escolar dejarán de ser gratuitos y tendrán costo.\\nAurelio señala que decidió contratar a Yordi para escribir los manuales con el fin de hacer \"más atractivos los textos\" y que los alumnos se interesen más por aprender, por lo que los libros dejarán de tener un lenguaje aburrido y serán presentados con un idioma \"más fresco, juvenil y moderno\":\\n\"Desafortunadamente el gobierno ya no tiene los recursos para seguir regalando los libros, por lo que a partir del próximo ciclo escolar los padres de familia deberán hacer un pequeño sacrificio y pagar una módica cantidad para que sus hijos puedan seguir aprendiendo. Realmente es algo simbólico, cada libro costará solo USD*NUMBER* pesitos, es un precio muy bajo si tenemos en cuenta que con esto los niños podrán forjarse un futuro. Decidimos contratar a Rosado porque queríamos hacer libros de calidad, que fueran atractivos para las nueva generaciones\", dijo,\\nNuño menciona que el conductor explicará a los estudiantes las materias de matemáticas, historia, geografía, español\", y otros temas, en un idioma más alegre y jocoso para hacer más disfrutable el aprendizaje:\\n\"Queremos que los niños lleguen a sus casas y abran gustosos sus libros de texto en vez de que se aburran al hojearlos. ¿Qué ondiux con las matemáticas?, será el ejemplar de matemáticas, ¿Qué pex con el spanish?, será la edición para español. Cada texto será redactado de forma atractiva y tendrá padrísimos dibujos e ilustraciones diseñadas por el mismo Rosado\", comentó.\\nEl director menciona que Yordi redactará los libros de primaria, secundaria y prepa: \"él domina muy bien el lenguaje de los adolescentes, pre adolescentes y niños. Realmente hizo una labor de investigación muy grande para entender y dominar a la perfección el lenguaje de las nuevas generaciones, los estudiantes definitivamente van a disfrutar los textos y se van a identificar con el idioma juvenil. Rosado respetó los contenidos sin alterarlos pero logró convertirlos al lenguaje de la chaviza, hasta yo que ya estoy grande me quedé picado al leerlos, la neta están padrísimos\", puntualizó riendo el director.'"
      ]
     },
     "execution_count": 56,
     "metadata": {},
     "output_type": "execute_result"
    }
   ],
   "source": [
    "fake_train.Text[2]"
   ]
  },
  {
   "cell_type": "code",
   "execution_count": 54,
   "metadata": {},
   "outputs": [],
   "source": [
    "data_clean = pd.DataFrame(fake_train.Text.apply(round1))"
   ]
  },
  {
   "cell_type": "code",
   "execution_count": 57,
   "metadata": {},
   "outputs": [
    {
     "data": {
      "text/plain": [
       "'yordi rosado escribirá y diseñará los nuevos libros de texto de la sep para hacerlos más atractivosméxico el director de la secretaría de educación pública aurelio nuño informó que el dramaturgo y conductor yordi rosado será el encargado de redactar los nuevos libros de texto que se reparten en todas las escuelas del país y que a partir del próximo ciclo escolar dejarán de ser gratuitos y tendrán costoaurelio señala que decidió contratar a yordi para escribir los manuales con el fin de hacer más atractivos los textos y que los alumnos se interesen más por aprender por lo que los libros dejarán de tener un lenguaje aburrido y serán presentados con un idioma más fresco juvenil y modernodesafortunadamente el gobierno ya no tiene los recursos para seguir regalando los libros por lo que a partir del próximo ciclo escolar los padres de familia deberán hacer un pequeño sacrificio y pagar una módica cantidad para que sus hijos puedan seguir aprendiendo realmente es algo simbólico cada libro costará solo usdnumber pesitos es un precio muy bajo si tenemos en cuenta que con esto los niños podrán forjarse un futuro decidimos contratar a rosado porque queríamos hacer libros de calidad que fueran atractivos para las nueva generaciones dijonuño menciona que el conductor explicará a los estudiantes las materias de matemáticas historia geografía español y otros temas en un idioma más alegre y jocoso para hacer más disfrutable el aprendizajequeremos que los niños lleguen a sus casas y abran gustosos sus libros de texto en vez de que se aburran al hojearlos ¿qué ondiux con las matemáticas será el ejemplar de matemáticas ¿qué pex con el spanish será la edición para español cada texto será redactado de forma atractiva y tendrá padrísimos dibujos e ilustraciones diseñadas por el mismo rosado comentóel director menciona que yordi redactará los libros de primaria secundaria y prepa él domina muy bien el lenguaje de los adolescentes pre adolescentes y niños realmente hizo una labor de investigación muy grande para entender y dominar a la perfección el lenguaje de las nuevas generaciones los estudiantes definitivamente van a disfrutar los textos y se van a identificar con el idioma juvenil rosado respetó los contenidos sin alterarlos pero logró convertirlos al lenguaje de la chaviza hasta yo que ya estoy grande me quedé picado al leerlos la neta están padrísimos puntualizó riendo el director'"
      ]
     },
     "execution_count": 57,
     "metadata": {},
     "output_type": "execute_result"
    }
   ],
   "source": [
    "data_clean.Text[2]"
   ]
  },
  {
   "cell_type": "code",
   "execution_count": null,
   "metadata": {},
   "outputs": [],
   "source": []
  }
 ],
 "metadata": {
  "hide_input": false,
  "kernelspec": {
   "display_name": "Python 3",
   "language": "python",
   "name": "python3"
  },
  "language_info": {
   "codemirror_mode": {
    "name": "ipython",
    "version": 3
   },
   "file_extension": ".py",
   "mimetype": "text/x-python",
   "name": "python",
   "nbconvert_exporter": "python",
   "pygments_lexer": "ipython3",
   "version": "3.8.3"
  }
 },
 "nbformat": 4,
 "nbformat_minor": 4
}
